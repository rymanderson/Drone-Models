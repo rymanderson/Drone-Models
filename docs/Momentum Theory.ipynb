{
 "cells": [
  {
   "cell_type": "markdown",
   "metadata": {},
   "source": [
    "# Momentum Theory Impetus for Power Class Methods\n",
    "\n",
    "## Momentum Theory Equations\n",
    "\n",
    "The governing equations of rotor momemtum theory used in this software were obtained from https://fenix.tecnico.ulisboa.pt/downloadFile/845043405440064/6-Momentum%20Theory%20in%20forward%20flight.pdf and http://www.aerospaceweb.org/design/helicopter/momentum.shtml. These equations include:\n",
    "\n",
    "1. $ T = 2 \\rho A v_i \\sqrt{V_\\infty^2 + 2V_\\infty v_i sin(\\alpha) + v_i^2} $\n",
    "2. $ v_h = \\sqrt{\\frac{W}{2\\rho A}} $\n",
    "\n",
    "which combine to yield:\n",
    "\n",
    "3. $ v_i = \\frac{v_h^2}{\\sqrt{(v_\\infty cos\\alpha)^2 + (v_\\infty sin\\alpha + v_i)^2}} $\n",
    "\n",
    "Note that rotor thrust $T$ must also equal the vector-summed weight minus lift and drag as:\n",
    "\n",
    "4. $ T = \\sqrt{(W-L)^2 + D^2} $\n",
    "\n",
    "where, assuming a lift slope of $2\\pi$:\n",
    "\n",
    "5. $ D = \\frac{1}{2} \\rho v_\\infty^2 C_D \\left( S_{top} sin\\alpha + S_{front} cos\\alpha \\right) $\n",
    "6. $ L = \\frac{1}{2} \\rho v_\\infty^2 2\\pi\\alpha S_{top} $\n",
    "\n",
    "yielding\n",
    "\n",
    "7. $ T = \\sqrt{W^2 + \\frac{1}{4} \\rho^2 v_\\infty^4 C_D^2 \\left( S_{top} sin\\alpha + S_{front} cos\\alpha \\right)^2} $\n",
    "\n",
    "Combining Eqs. 1. and 7., we obtain:\n",
    "\n",
    "8. $ 2 \\rho A v_i \\sqrt{V_\\infty^2 + 2V_\\infty v_i sin(\\alpha) + v_i^2} = \\sqrt{W^2 + \\frac{1}{4} \\rho^2 v_\\infty^4 C_D^2 \\left( S_{top} sin\\alpha + S_{front} cos\\alpha \\right)^2} $\n",
    "\n",
    "A nonlinear solver may be used to solve "
   ]
  }
 ],
 "metadata": {
  "kernelspec": {
   "display_name": "Python 3",
   "language": "python",
   "name": "python3"
  },
  "language_info": {
   "codemirror_mode": {
    "name": "ipython",
    "version": 3
   },
   "file_extension": ".py",
   "mimetype": "text/x-python",
   "name": "python",
   "nbconvert_exporter": "python",
   "pygments_lexer": "ipython3",
   "version": "3.6.7"
  }
 },
 "nbformat": 4,
 "nbformat_minor": 2
}
